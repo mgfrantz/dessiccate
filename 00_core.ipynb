{
 "cells": [
  {
   "cell_type": "code",
   "execution_count": null,
   "metadata": {},
   "outputs": [],
   "source": [
    "# default_exp core"
   ]
  },
  {
   "cell_type": "markdown",
   "metadata": {},
   "source": [
    "# Core\n",
    "\n",
    "> API details."
   ]
  },
  {
   "cell_type": "code",
   "execution_count": null,
   "metadata": {},
   "outputs": [],
   "source": [
    "#hide\n",
    "from nbdev.showdoc import *"
   ]
  },
  {
   "cell_type": "code",
   "execution_count": null,
   "metadata": {},
   "outputs": [],
   "source": [
    "# export\n",
    "from attrdict import AttrDict\n",
    "from fastcore.basics import Path\n",
    "import subprocess"
   ]
  },
  {
   "cell_type": "markdown",
   "metadata": {},
   "source": [
    "## Running bash commands in Python"
   ]
  },
  {
   "cell_type": "code",
   "execution_count": null,
   "metadata": {},
   "outputs": [],
   "source": [
    "# export\n",
    "def run_bash(cmd, return_output=True):\n",
    "    process = subprocess.Popen(cmd.split(), stdout=subprocess.PIPE)\n",
    "    output, error = process.communicate()\n",
    "    if not error:\n",
    "        print(output.decode('utf-8'))\n",
    "        if return_output:\n",
    "            return output.decode('utf-8')\n",
    "    else:\n",
    "        print(error.decode('utf-8'))\n",
    "        if return_output:\n",
    "            return error.decoe('utf-8')"
   ]
  },
  {
   "cell_type": "code",
   "execution_count": null,
   "metadata": {},
   "outputs": [
    {
     "name": "stdout",
     "output_type": "stream",
     "text": [
      "00_core.ipynb\n",
      "CONTRIBUTING.md\n",
      "dessiccate\n",
      "dessiccate.egg-info\n",
      "docker-compose.yml\n",
      "docs\n",
      "index.ipynb\n",
      "LICENSE\n",
      "Makefile\n",
      "MANIFEST.in\n",
      "README.md\n",
      "settings.ini\n",
      "setup.py\n",
      "\n"
     ]
    }
   ],
   "source": [
    "out = run_bash('ls')"
   ]
  },
  {
   "cell_type": "markdown",
   "metadata": {},
   "source": [
    "## Setting up in colab\n",
    "\n",
    "If you're in colab, you may not have the proper packages installed.\n",
    "Running this function will set you up to work in colab."
   ]
  },
  {
   "cell_type": "code",
   "execution_count": null,
   "metadata": {},
   "outputs": [],
   "source": [
    "# export\n",
    "def colab_setup():\n",
    "    \"\"\"\n",
    "    Sets up for development in Google Colab.\n",
    "    Repo must be cloned in drive/colab/ directory.\n",
    "    \"\"\"\n",
    "    try:\n",
    "        from google.colab import drive\n",
    "        print('Running in colab')\n",
    "        drive.mount('/content/drive', force_remount=True)\n",
    "        _ = run_bash(\"pip install -Uqq nbdev\")\n",
    "        import os\n",
    "        os.chdir('/content/drive/MyDrive/colab/dessiccate/')\n",
    "        print(\"Working in\", os.getcwd())\n",
    "        _ = run_bash('pip install -e . --quiet')\n",
    "    except:\n",
    "        import os\n",
    "        print(\"Working in\", os.getcwd())\n",
    "        print('Running locally')"
   ]
  },
  {
   "cell_type": "code",
   "execution_count": null,
   "metadata": {},
   "outputs": [
    {
     "name": "stdout",
     "output_type": "stream",
     "text": [
      "Running in colab\n",
      "Mounted at /content/drive\n",
      "\n",
      "Working in /content/drive/MyDrive/colab/dessiccate\n",
      "\n"
     ]
    }
   ],
   "source": [
    "colab_setup()"
   ]
  },
  {
   "cell_type": "markdown",
   "metadata": {},
   "source": [
    "## Path\n",
    "\n",
    "Often, you want to create a new directory.\n",
    "Even if all you have is a file path, you can now call `mkdir_if_not_exists` to create the parent directory."
   ]
  },
  {
   "cell_type": "code",
   "execution_count": null,
   "metadata": {},
   "outputs": [],
   "source": [
    "# export\n",
    "def mkdir_if_not_exists(self, parents=True):\n",
    "    \"\"\"\n",
    "    Creates the directory of the path if ot doesn't exist.\n",
    "    If the path is a file, will not make the file itself,\n",
    "    but will create the parent directory.\n",
    "    \"\"\"\n",
    "    if path.is_dir():\n",
    "        p = path\n",
    "    else:\n",
    "        p = path.parent\n",
    "    if not p.exists():\n",
    "        p.mkdir(parents=parents)\n",
    "\n",
    "Path.mkdir_if_not_exists = mkdir_if_not_exists"
   ]
  },
  {
   "cell_type": "code",
   "execution_count": null,
   "metadata": {},
   "outputs": [],
   "source": [
    "path = Path('testdir/test.txt')"
   ]
  },
  {
   "cell_type": "code",
   "execution_count": null,
   "metadata": {},
   "outputs": [],
   "source": [
    "assert not path.exists()"
   ]
  },
  {
   "cell_type": "code",
   "execution_count": null,
   "metadata": {},
   "outputs": [],
   "source": [
    "path.mkdir_if_not_exists()"
   ]
  },
  {
   "cell_type": "code",
   "execution_count": null,
   "metadata": {},
   "outputs": [],
   "source": [
    "assert not path.exists()\n",
    "assert path.parent.exists()"
   ]
  },
  {
   "cell_type": "code",
   "execution_count": null,
   "metadata": {},
   "outputs": [],
   "source": [
    "path.parent.rmdir()"
   ]
  },
  {
   "cell_type": "code",
   "execution_count": null,
   "metadata": {},
   "outputs": [],
   "source": [
    "assert not path.parent.exists()"
   ]
  },
  {
   "cell_type": "code",
   "execution_count": null,
   "metadata": {},
   "outputs": [],
   "source": []
  }
 ],
 "metadata": {
  "kernelspec": {
   "display_name": "Python 3",
   "language": "python",
   "name": "python3"
  }
 },
 "nbformat": 4,
 "nbformat_minor": 0
}
